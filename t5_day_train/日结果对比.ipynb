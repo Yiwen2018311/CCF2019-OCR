{
 "cells": [
  {
   "cell_type": "code",
   "execution_count": 6,
   "metadata": {},
   "outputs": [],
   "source": [
    "import pandas as pd"
   ]
  },
  {
   "cell_type": "code",
   "execution_count": 7,
   "metadata": {},
   "outputs": [],
   "source": [
    "old_pd = pd.read_csv('../single_submit/0907_day_only_77.csv',header=None) # 9.9672%\n",
    "old_pd.columns = ['file', 'name', 'nation', 'sex', 'year', 'month', 'day', 'addr', 'id', 'office', 'valid']"
   ]
  },
  {
   "cell_type": "code",
   "execution_count": 8,
   "metadata": {},
   "outputs": [],
   "source": [
    "# new_pd = pd.read_csv('../single_result/0907_day_only_77.csv',header=None,names=['file','day'])\n",
    "new_pd = pd.read_csv('../single_result/1019_day_only_47.csv',header=None,names=['file','day'])"
   ]
  },
  {
   "cell_type": "code",
   "execution_count": 9,
   "metadata": {},
   "outputs": [],
   "source": [
    "meg_pd = pd.merge(new_pd,old_pd[['file','day']],how='left',on='file')"
   ]
  },
  {
   "cell_type": "code",
   "execution_count": 11,
   "metadata": {
    "scrolled": false
   },
   "outputs": [],
   "source": [
    "# meg_pd[meg_pd.day_x != meg_pd.day_y]"
   ]
  },
  {
   "cell_type": "code",
   "execution_count": 10,
   "metadata": {},
   "outputs": [
    {
     "data": {
      "text/html": [
       "<div>\n",
       "<style scoped>\n",
       "    .dataframe tbody tr th:only-of-type {\n",
       "        vertical-align: middle;\n",
       "    }\n",
       "\n",
       "    .dataframe tbody tr th {\n",
       "        vertical-align: top;\n",
       "    }\n",
       "\n",
       "    .dataframe thead th {\n",
       "        text-align: right;\n",
       "    }\n",
       "</style>\n",
       "<table border=\"1\" class=\"dataframe\">\n",
       "  <thead>\n",
       "    <tr style=\"text-align: right;\">\n",
       "      <th></th>\n",
       "      <th>file</th>\n",
       "      <th>day_x</th>\n",
       "      <th>day_y</th>\n",
       "    </tr>\n",
       "  </thead>\n",
       "  <tbody>\n",
       "    <tr>\n",
       "      <th>180</th>\n",
       "      <td>08c5f164e26b4810a94a5946d7d881bb</td>\n",
       "      <td>10</td>\n",
       "      <td>13</td>\n",
       "    </tr>\n",
       "    <tr>\n",
       "      <th>1405</th>\n",
       "      <td>4acb4fc3545e40ada3705fa26028ca3b</td>\n",
       "      <td>26</td>\n",
       "      <td>28</td>\n",
       "    </tr>\n",
       "    <tr>\n",
       "      <th>2022</th>\n",
       "      <td>6af75ada25d94fcdb5158ca52d07ea73</td>\n",
       "      <td>16</td>\n",
       "      <td>10</td>\n",
       "    </tr>\n",
       "    <tr>\n",
       "      <th>2236</th>\n",
       "      <td>757a73641b474ec2a05301e221e34216</td>\n",
       "      <td>18</td>\n",
       "      <td>28</td>\n",
       "    </tr>\n",
       "    <tr>\n",
       "      <th>2483</th>\n",
       "      <td>8168d1c37ded4391a6ed0a84b8262309</td>\n",
       "      <td>14</td>\n",
       "      <td>18</td>\n",
       "    </tr>\n",
       "    <tr>\n",
       "      <th>2526</th>\n",
       "      <td>83bd06a7b23e4dda9631ff77fd2be307</td>\n",
       "      <td>8</td>\n",
       "      <td>10</td>\n",
       "    </tr>\n",
       "    <tr>\n",
       "      <th>2765</th>\n",
       "      <td>907fac18e2ee4878ab6a49e8198be29f</td>\n",
       "      <td>8</td>\n",
       "      <td>3</td>\n",
       "    </tr>\n",
       "    <tr>\n",
       "      <th>3079</th>\n",
       "      <td>a0f9d45d49e4462aadb48258008c34fd</td>\n",
       "      <td>23</td>\n",
       "      <td>27</td>\n",
       "    </tr>\n",
       "    <tr>\n",
       "      <th>3086</th>\n",
       "      <td>a167b5a145174d2fa2c9be3658024197</td>\n",
       "      <td>23</td>\n",
       "      <td>25</td>\n",
       "    </tr>\n",
       "    <tr>\n",
       "      <th>3367</th>\n",
       "      <td>b0abcd1aab734e4c84ab6b934b8128ba</td>\n",
       "      <td>30</td>\n",
       "      <td>20</td>\n",
       "    </tr>\n",
       "    <tr>\n",
       "      <th>3695</th>\n",
       "      <td>c1c5393ea8334bb5b09fa1dc1e2378f2</td>\n",
       "      <td>14</td>\n",
       "      <td>4</td>\n",
       "    </tr>\n",
       "    <tr>\n",
       "      <th>3778</th>\n",
       "      <td>c694e09763dd4fed96a1cc35ea2a9430</td>\n",
       "      <td>21</td>\n",
       "      <td>27</td>\n",
       "    </tr>\n",
       "    <tr>\n",
       "      <th>3907</th>\n",
       "      <td>cc551490fafe4cf8aff47554048e74cf</td>\n",
       "      <td>29</td>\n",
       "      <td>24</td>\n",
       "    </tr>\n",
       "    <tr>\n",
       "      <th>4424</th>\n",
       "      <td>e4b3332cbcdf45fab14b668f7e569979</td>\n",
       "      <td>26</td>\n",
       "      <td>23</td>\n",
       "    </tr>\n",
       "    <tr>\n",
       "      <th>4791</th>\n",
       "      <td>f5f375e3452b4970ae4f1127bcb57f2d</td>\n",
       "      <td>17</td>\n",
       "      <td>11</td>\n",
       "    </tr>\n",
       "    <tr>\n",
       "      <th>4924</th>\n",
       "      <td>fca3d75953b0431a88e69f5d09c2d946</td>\n",
       "      <td>25</td>\n",
       "      <td>23</td>\n",
       "    </tr>\n",
       "  </tbody>\n",
       "</table>\n",
       "</div>"
      ],
      "text/plain": [
       "                                  file  day_x  day_y\n",
       "180   08c5f164e26b4810a94a5946d7d881bb     10     13\n",
       "1405  4acb4fc3545e40ada3705fa26028ca3b     26     28\n",
       "2022  6af75ada25d94fcdb5158ca52d07ea73     16     10\n",
       "2236  757a73641b474ec2a05301e221e34216     18     28\n",
       "2483  8168d1c37ded4391a6ed0a84b8262309     14     18\n",
       "2526  83bd06a7b23e4dda9631ff77fd2be307      8     10\n",
       "2765  907fac18e2ee4878ab6a49e8198be29f      8      3\n",
       "3079  a0f9d45d49e4462aadb48258008c34fd     23     27\n",
       "3086  a167b5a145174d2fa2c9be3658024197     23     25\n",
       "3367  b0abcd1aab734e4c84ab6b934b8128ba     30     20\n",
       "3695  c1c5393ea8334bb5b09fa1dc1e2378f2     14      4\n",
       "3778  c694e09763dd4fed96a1cc35ea2a9430     21     27\n",
       "3907  cc551490fafe4cf8aff47554048e74cf     29     24\n",
       "4424  e4b3332cbcdf45fab14b668f7e569979     26     23\n",
       "4791  f5f375e3452b4970ae4f1127bcb57f2d     17     11\n",
       "4924  fca3d75953b0431a88e69f5d09c2d946     25     23"
      ]
     },
     "execution_count": 10,
     "metadata": {},
     "output_type": "execute_result"
    }
   ],
   "source": [
    "meg_pd[meg_pd.day_x != meg_pd.day_y]"
   ]
  },
  {
   "cell_type": "code",
   "execution_count": null,
   "metadata": {},
   "outputs": [],
   "source": []
  }
 ],
 "metadata": {
  "kernelspec": {
   "display_name": "Python 3",
   "language": "python",
   "name": "python3"
  },
  "language_info": {
   "codemirror_mode": {
    "name": "ipython",
    "version": 3
   },
   "file_extension": ".py",
   "mimetype": "text/x-python",
   "name": "python",
   "nbconvert_exporter": "python",
   "pygments_lexer": "ipython3",
   "version": "3.7.4"
  }
 },
 "nbformat": 4,
 "nbformat_minor": 2
}
