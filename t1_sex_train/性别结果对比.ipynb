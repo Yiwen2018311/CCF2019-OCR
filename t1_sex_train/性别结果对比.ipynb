{
 "cells": [
  {
   "cell_type": "code",
   "execution_count": 26,
   "metadata": {},
   "outputs": [],
   "source": [
    "import pandas as pd"
   ]
  },
  {
   "cell_type": "code",
   "execution_count": 27,
   "metadata": {},
   "outputs": [],
   "source": [
    "old_pd = pd.read_csv('../single_submit/0907_sex_only_mix.csv',header=None)\n",
    "old_pd.columns = ['file', 'name', 'nation', 'sex', 'year', 'month', 'day', 'addr', 'id', 'office', 'valid']"
   ]
  },
  {
   "cell_type": "code",
   "execution_count": 28,
   "metadata": {},
   "outputs": [],
   "source": [
    "new_pd = pd.read_csv('../single_result/0907_sex_only_100.csv',header=None,names=['file','sex'])"
   ]
  },
  {
   "cell_type": "code",
   "execution_count": 29,
   "metadata": {},
   "outputs": [],
   "source": [
    "meg_pd = pd.merge(new_pd,old_pd[['file','sex']],how='left',on='file')"
   ]
  },
  {
   "cell_type": "code",
   "execution_count": 30,
   "metadata": {},
   "outputs": [
    {
     "data": {
      "text/html": [
       "<div>\n",
       "<style scoped>\n",
       "    .dataframe tbody tr th:only-of-type {\n",
       "        vertical-align: middle;\n",
       "    }\n",
       "\n",
       "    .dataframe tbody tr th {\n",
       "        vertical-align: top;\n",
       "    }\n",
       "\n",
       "    .dataframe thead th {\n",
       "        text-align: right;\n",
       "    }\n",
       "</style>\n",
       "<table border=\"1\" class=\"dataframe\">\n",
       "  <thead>\n",
       "    <tr style=\"text-align: right;\">\n",
       "      <th></th>\n",
       "      <th>file</th>\n",
       "      <th>sex_x</th>\n",
       "      <th>sex_y</th>\n",
       "    </tr>\n",
       "  </thead>\n",
       "  <tbody>\n",
       "    <tr>\n",
       "      <th>1030</th>\n",
       "      <td>3620324e0f1c406cb1c609dfa522afbe</td>\n",
       "      <td>男</td>\n",
       "      <td>NaN</td>\n",
       "    </tr>\n",
       "    <tr>\n",
       "      <th>1066</th>\n",
       "      <td>381365090bab40cea66862c5df2cf87b</td>\n",
       "      <td>男</td>\n",
       "      <td>NaN</td>\n",
       "    </tr>\n",
       "    <tr>\n",
       "      <th>1490</th>\n",
       "      <td>4f076edc9d3e4f288154b36cde35b16a</td>\n",
       "      <td>男</td>\n",
       "      <td>NaN</td>\n",
       "    </tr>\n",
       "    <tr>\n",
       "      <th>1664</th>\n",
       "      <td>58b482c1d2884f8cabbf002caa8c8032</td>\n",
       "      <td>女</td>\n",
       "      <td>男</td>\n",
       "    </tr>\n",
       "    <tr>\n",
       "      <th>2526</th>\n",
       "      <td>83bd06a7b23e4dda9631ff77fd2be307</td>\n",
       "      <td>女</td>\n",
       "      <td>NaN</td>\n",
       "    </tr>\n",
       "    <tr>\n",
       "      <th>2699</th>\n",
       "      <td>8d1f38d494a743f1b48566fe70357be3</td>\n",
       "      <td>男</td>\n",
       "      <td>NaN</td>\n",
       "    </tr>\n",
       "    <tr>\n",
       "      <th>3838</th>\n",
       "      <td>c9262840446740589b789fff27978cb3</td>\n",
       "      <td>男</td>\n",
       "      <td>NaN</td>\n",
       "    </tr>\n",
       "    <tr>\n",
       "      <th>4355</th>\n",
       "      <td>e14e3d7f6f304e35a66522dda925296f</td>\n",
       "      <td>男</td>\n",
       "      <td>女</td>\n",
       "    </tr>\n",
       "    <tr>\n",
       "      <th>4424</th>\n",
       "      <td>e4b3332cbcdf45fab14b668f7e569979</td>\n",
       "      <td>女</td>\n",
       "      <td>NaN</td>\n",
       "    </tr>\n",
       "    <tr>\n",
       "      <th>4687</th>\n",
       "      <td>f0bb8e7205174c4f9731d8d3f1e68693</td>\n",
       "      <td>女</td>\n",
       "      <td>男</td>\n",
       "    </tr>\n",
       "  </tbody>\n",
       "</table>\n",
       "</div>"
      ],
      "text/plain": [
       "                                  file sex_x sex_y\n",
       "1030  3620324e0f1c406cb1c609dfa522afbe     男   NaN\n",
       "1066  381365090bab40cea66862c5df2cf87b     男   NaN\n",
       "1490  4f076edc9d3e4f288154b36cde35b16a     男   NaN\n",
       "1664  58b482c1d2884f8cabbf002caa8c8032     女     男\n",
       "2526  83bd06a7b23e4dda9631ff77fd2be307     女   NaN\n",
       "2699  8d1f38d494a743f1b48566fe70357be3     男   NaN\n",
       "3838  c9262840446740589b789fff27978cb3     男   NaN\n",
       "4355  e14e3d7f6f304e35a66522dda925296f     男     女\n",
       "4424  e4b3332cbcdf45fab14b668f7e569979     女   NaN\n",
       "4687  f0bb8e7205174c4f9731d8d3f1e68693     女     男"
      ]
     },
     "execution_count": 30,
     "metadata": {},
     "output_type": "execute_result"
    }
   ],
   "source": [
    "meg_pd[meg_pd.sex_x != meg_pd.sex_y]"
   ]
  },
  {
   "cell_type": "code",
   "execution_count": null,
   "metadata": {},
   "outputs": [],
   "source": []
  }
 ],
 "metadata": {
  "kernelspec": {
   "display_name": "Python 3",
   "language": "python",
   "name": "python3"
  },
  "language_info": {
   "codemirror_mode": {
    "name": "ipython",
    "version": 3
   },
   "file_extension": ".py",
   "mimetype": "text/x-python",
   "name": "python",
   "nbconvert_exporter": "python",
   "pygments_lexer": "ipython3",
   "version": "3.7.4"
  }
 },
 "nbformat": 4,
 "nbformat_minor": 2
}
