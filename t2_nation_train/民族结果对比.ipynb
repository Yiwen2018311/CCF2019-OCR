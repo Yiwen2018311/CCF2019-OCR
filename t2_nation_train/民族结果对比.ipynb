{
 "cells": [
  {
   "cell_type": "code",
   "execution_count": 48,
   "metadata": {},
   "outputs": [],
   "source": [
    "import pandas as pd"
   ]
  },
  {
   "cell_type": "code",
   "execution_count": 60,
   "metadata": {},
   "outputs": [],
   "source": [
    "old_pd = pd.read_csv('../single_submit/0905_nation_only_114.csv ',header=None) #9.9791%\n",
    "old_pd.columns = ['file', 'name', 'nation', 'sex', 'year', 'month', 'day', 'addr', 'id', 'office', 'valid']"
   ]
  },
  {
   "cell_type": "code",
   "execution_count": 61,
   "metadata": {},
   "outputs": [],
   "source": [
    "new_pd = pd.read_csv('../single_result/1018_v5_nation_only_46.csv',header=None,names=['file','nation'])"
   ]
  },
  {
   "cell_type": "code",
   "execution_count": 62,
   "metadata": {},
   "outputs": [],
   "source": [
    "meg_pd = pd.merge(new_pd,old_pd[['file','nation']],how='left',on='file')"
   ]
  },
  {
   "cell_type": "code",
   "execution_count": 63,
   "metadata": {
    "scrolled": false
   },
   "outputs": [
    {
     "data": {
      "text/html": [
       "<div>\n",
       "<style scoped>\n",
       "    .dataframe tbody tr th:only-of-type {\n",
       "        vertical-align: middle;\n",
       "    }\n",
       "\n",
       "    .dataframe tbody tr th {\n",
       "        vertical-align: top;\n",
       "    }\n",
       "\n",
       "    .dataframe thead th {\n",
       "        text-align: right;\n",
       "    }\n",
       "</style>\n",
       "<table border=\"1\" class=\"dataframe\">\n",
       "  <thead>\n",
       "    <tr style=\"text-align: right;\">\n",
       "      <th></th>\n",
       "      <th>file</th>\n",
       "      <th>nation_x</th>\n",
       "      <th>nation_y</th>\n",
       "    </tr>\n",
       "  </thead>\n",
       "  <tbody>\n",
       "    <tr>\n",
       "      <th>548</th>\n",
       "      <td>1ae5642a408c4997a0b552333cc748b2</td>\n",
       "      <td>锡伯</td>\n",
       "      <td>撒拉</td>\n",
       "    </tr>\n",
       "    <tr>\n",
       "      <th>880</th>\n",
       "      <td>2d840da91c314f539fe7c7374d5c71b1</td>\n",
       "      <td>京</td>\n",
       "      <td>汉</td>\n",
       "    </tr>\n",
       "    <tr>\n",
       "      <th>1705</th>\n",
       "      <td>5acf4f2614b645359651669c71a9ff4d</td>\n",
       "      <td>拉祜</td>\n",
       "      <td>布依</td>\n",
       "    </tr>\n",
       "    <tr>\n",
       "      <th>1773</th>\n",
       "      <td>5e7b0575b3c143b8ad598580b5ab0e4d</td>\n",
       "      <td>京</td>\n",
       "      <td>回</td>\n",
       "    </tr>\n",
       "    <tr>\n",
       "      <th>2118</th>\n",
       "      <td>6f9f698d652a41ab818838b99697eaed</td>\n",
       "      <td>哈尼</td>\n",
       "      <td>撒拉</td>\n",
       "    </tr>\n",
       "    <tr>\n",
       "      <th>2239</th>\n",
       "      <td>75a5d97c51c249daa8c0787a7c8af144</td>\n",
       "      <td>侗</td>\n",
       "      <td>回</td>\n",
       "    </tr>\n",
       "    <tr>\n",
       "      <th>3904</th>\n",
       "      <td>cc09bb3301c24ce5815b976cac5875e6</td>\n",
       "      <td>黎</td>\n",
       "      <td>怒</td>\n",
       "    </tr>\n",
       "    <tr>\n",
       "      <th>4791</th>\n",
       "      <td>f5f375e3452b4970ae4f1127bcb57f2d</td>\n",
       "      <td>土</td>\n",
       "      <td>水</td>\n",
       "    </tr>\n",
       "  </tbody>\n",
       "</table>\n",
       "</div>"
      ],
      "text/plain": [
       "                                  file nation_x nation_y\n",
       "548   1ae5642a408c4997a0b552333cc748b2       锡伯       撒拉\n",
       "880   2d840da91c314f539fe7c7374d5c71b1        京        汉\n",
       "1705  5acf4f2614b645359651669c71a9ff4d       拉祜       布依\n",
       "1773  5e7b0575b3c143b8ad598580b5ab0e4d        京        回\n",
       "2118  6f9f698d652a41ab818838b99697eaed       哈尼       撒拉\n",
       "2239  75a5d97c51c249daa8c0787a7c8af144        侗        回\n",
       "3904  cc09bb3301c24ce5815b976cac5875e6        黎        怒\n",
       "4791  f5f375e3452b4970ae4f1127bcb57f2d        土        水"
      ]
     },
     "execution_count": 63,
     "metadata": {},
     "output_type": "execute_result"
    }
   ],
   "source": [
    "meg_pd[meg_pd.nation_x != meg_pd.nation_y]"
   ]
  },
  {
   "cell_type": "code",
   "execution_count": null,
   "metadata": {},
   "outputs": [],
   "source": []
  },
  {
   "cell_type": "code",
   "execution_count": null,
   "metadata": {},
   "outputs": [],
   "source": []
  }
 ],
 "metadata": {
  "kernelspec": {
   "display_name": "Python 3",
   "language": "python",
   "name": "python3"
  },
  "language_info": {
   "codemirror_mode": {
    "name": "ipython",
    "version": 3
   },
   "file_extension": ".py",
   "mimetype": "text/x-python",
   "name": "python",
   "nbconvert_exporter": "python",
   "pygments_lexer": "ipython3",
   "version": "3.7.4"
  }
 },
 "nbformat": 4,
 "nbformat_minor": 2
}
