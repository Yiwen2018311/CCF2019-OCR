{
 "cells": [
  {
   "cell_type": "code",
   "execution_count": 8,
   "metadata": {},
   "outputs": [],
   "source": [
    "import pandas as pd"
   ]
  },
  {
   "cell_type": "code",
   "execution_count": 9,
   "metadata": {},
   "outputs": [],
   "source": [
    "old_pd = pd.read_csv('../single_submit/0908_year_only_57.csv',header=None)  #9.9821%\n",
    "old_pd.columns = ['file', 'name', 'nation', 'sex', 'year', 'month', 'day', 'addr', 'id', 'office', 'valid']"
   ]
  },
  {
   "cell_type": "code",
   "execution_count": 19,
   "metadata": {},
   "outputs": [],
   "source": [
    "new_pd = pd.read_csv('../single_result/1019_year_only_31.csv',header=None,names=['file','year'])"
   ]
  },
  {
   "cell_type": "code",
   "execution_count": 20,
   "metadata": {},
   "outputs": [],
   "source": [
    "meg_pd = pd.merge(new_pd,old_pd[['file','year']],how='left',on='file')"
   ]
  },
  {
   "cell_type": "code",
   "execution_count": 21,
   "metadata": {},
   "outputs": [
    {
     "data": {
      "text/html": [
       "<div>\n",
       "<style scoped>\n",
       "    .dataframe tbody tr th:only-of-type {\n",
       "        vertical-align: middle;\n",
       "    }\n",
       "\n",
       "    .dataframe tbody tr th {\n",
       "        vertical-align: top;\n",
       "    }\n",
       "\n",
       "    .dataframe thead th {\n",
       "        text-align: right;\n",
       "    }\n",
       "</style>\n",
       "<table border=\"1\" class=\"dataframe\">\n",
       "  <thead>\n",
       "    <tr style=\"text-align: right;\">\n",
       "      <th></th>\n",
       "      <th>file</th>\n",
       "      <th>year_x</th>\n",
       "      <th>year_y</th>\n",
       "    </tr>\n",
       "  </thead>\n",
       "  <tbody>\n",
       "    <tr>\n",
       "      <th>237</th>\n",
       "      <td>0ba462f2ddf044a2a1f08b6c17403b78</td>\n",
       "      <td>1983</td>\n",
       "      <td>1982</td>\n",
       "    </tr>\n",
       "    <tr>\n",
       "      <th>2236</th>\n",
       "      <td>757a73641b474ec2a05301e221e34216</td>\n",
       "      <td>2001</td>\n",
       "      <td>1969</td>\n",
       "    </tr>\n",
       "    <tr>\n",
       "      <th>2358</th>\n",
       "      <td>7af5c484efd54e9fab0a19701fab40c6</td>\n",
       "      <td>2000</td>\n",
       "      <td>2004</td>\n",
       "    </tr>\n",
       "    <tr>\n",
       "      <th>2526</th>\n",
       "      <td>83bd06a7b23e4dda9631ff77fd2be307</td>\n",
       "      <td>1975</td>\n",
       "      <td>1990</td>\n",
       "    </tr>\n",
       "    <tr>\n",
       "      <th>3248</th>\n",
       "      <td>aa39569b8239419e92f4bb4a47af4c5d</td>\n",
       "      <td>1998</td>\n",
       "      <td>1978</td>\n",
       "    </tr>\n",
       "    <tr>\n",
       "      <th>3987</th>\n",
       "      <td>cf92e1eeeca14832a24a6d854802f3fe</td>\n",
       "      <td>1974</td>\n",
       "      <td>1971</td>\n",
       "    </tr>\n",
       "    <tr>\n",
       "      <th>4424</th>\n",
       "      <td>e4b3332cbcdf45fab14b668f7e569979</td>\n",
       "      <td>1983</td>\n",
       "      <td>1962</td>\n",
       "    </tr>\n",
       "    <tr>\n",
       "      <th>4471</th>\n",
       "      <td>e70166131dd24c3f9d533a02742bc892</td>\n",
       "      <td>1980</td>\n",
       "      <td>1984</td>\n",
       "    </tr>\n",
       "  </tbody>\n",
       "</table>\n",
       "</div>"
      ],
      "text/plain": [
       "                                  file  year_x  year_y\n",
       "237   0ba462f2ddf044a2a1f08b6c17403b78    1983    1982\n",
       "2236  757a73641b474ec2a05301e221e34216    2001    1969\n",
       "2358  7af5c484efd54e9fab0a19701fab40c6    2000    2004\n",
       "2526  83bd06a7b23e4dda9631ff77fd2be307    1975    1990\n",
       "3248  aa39569b8239419e92f4bb4a47af4c5d    1998    1978\n",
       "3987  cf92e1eeeca14832a24a6d854802f3fe    1974    1971\n",
       "4424  e4b3332cbcdf45fab14b668f7e569979    1983    1962\n",
       "4471  e70166131dd24c3f9d533a02742bc892    1980    1984"
      ]
     },
     "execution_count": 21,
     "metadata": {},
     "output_type": "execute_result"
    }
   ],
   "source": [
    "meg_pd[meg_pd.year_x != meg_pd.year_y]"
   ]
  },
  {
   "cell_type": "code",
   "execution_count": null,
   "metadata": {},
   "outputs": [],
   "source": []
  }
 ],
 "metadata": {
  "kernelspec": {
   "display_name": "Python 3",
   "language": "python",
   "name": "python3"
  },
  "language_info": {
   "codemirror_mode": {
    "name": "ipython",
    "version": 3
   },
   "file_extension": ".py",
   "mimetype": "text/x-python",
   "name": "python",
   "nbconvert_exporter": "python",
   "pygments_lexer": "ipython3",
   "version": "3.7.4"
  }
 },
 "nbformat": 4,
 "nbformat_minor": 2
}
