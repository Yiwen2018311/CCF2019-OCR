{
 "cells": [
  {
   "cell_type": "code",
   "execution_count": 36,
   "metadata": {},
   "outputs": [],
   "source": [
    "import pandas as pd"
   ]
  },
  {
   "cell_type": "code",
   "execution_count": 93,
   "metadata": {},
   "outputs": [],
   "source": [
    "# 地区编码\n",
    "nbs_pd = pd.read_csv('../ext_data/nbs_id_card_code_ver1.csv',dtype={'district_id':'str'})\n",
    "id_card_key = nbs_pd.loc[~nbs_pd.district_id.isna(),'district_id'].drop_duplicates().tolist()"
   ]
  },
  {
   "cell_type": "code",
   "execution_count": 94,
   "metadata": {},
   "outputs": [],
   "source": [
    "result = pd.read_csv('../single_result/1015_id_only_50.csv',header=None, names=['file_id','id'])"
   ]
  },
  {
   "cell_type": "code",
   "execution_count": 95,
   "metadata": {},
   "outputs": [
    {
     "data": {
      "text/plain": [
       "(1, 2)"
      ]
     },
     "execution_count": 95,
     "metadata": {},
     "output_type": "execute_result"
    }
   ],
   "source": [
    "result[result.id.str.len() < 17].shape"
   ]
  },
  {
   "cell_type": "code",
   "execution_count": 96,
   "metadata": {},
   "outputs": [],
   "source": [
    "result['area_id'] = result['id'].str[:6]"
   ]
  },
  {
   "cell_type": "code",
   "execution_count": 97,
   "metadata": {},
   "outputs": [
    {
     "data": {
      "text/html": [
       "<div>\n",
       "<style scoped>\n",
       "    .dataframe tbody tr th:only-of-type {\n",
       "        vertical-align: middle;\n",
       "    }\n",
       "\n",
       "    .dataframe tbody tr th {\n",
       "        vertical-align: top;\n",
       "    }\n",
       "\n",
       "    .dataframe thead th {\n",
       "        text-align: right;\n",
       "    }\n",
       "</style>\n",
       "<table border=\"1\" class=\"dataframe\">\n",
       "  <thead>\n",
       "    <tr style=\"text-align: right;\">\n",
       "      <th></th>\n",
       "      <th>file_id</th>\n",
       "      <th>id</th>\n",
       "      <th>area_id</th>\n",
       "    </tr>\n",
       "  </thead>\n",
       "  <tbody>\n",
       "    <tr>\n",
       "      <th>0</th>\n",
       "      <td>000488dbd3bf43b3a8410ea1147345ff</td>\n",
       "      <td>38028119910715151</td>\n",
       "      <td>380281</td>\n",
       "    </tr>\n",
       "    <tr>\n",
       "      <th>523</th>\n",
       "      <td>19b6bd7c704b4147b85009a555a1dcf3</td>\n",
       "      <td>428504199511103741</td>\n",
       "      <td>428504</td>\n",
       "    </tr>\n",
       "    <tr>\n",
       "      <th>867</th>\n",
       "      <td>2cd6e56364cd42bba1e2c58a546bdbd0</td>\n",
       "      <td>13262719860923688</td>\n",
       "      <td>132627</td>\n",
       "    </tr>\n",
       "    <tr>\n",
       "      <th>2236</th>\n",
       "      <td>757a73641b474ec2a05301e221e34216</td>\n",
       "      <td>31105513195999739</td>\n",
       "      <td>311055</td>\n",
       "    </tr>\n",
       "    <tr>\n",
       "      <th>2526</th>\n",
       "      <td>83bd06a7b23e4dda9631ff77fd2be307</td>\n",
       "      <td>3027112632212660239</td>\n",
       "      <td>302711</td>\n",
       "    </tr>\n",
       "    <tr>\n",
       "      <th>4424</th>\n",
       "      <td>e4b3332cbcdf45fab14b668f7e569979</td>\n",
       "      <td>331711611771573X</td>\n",
       "      <td>331711</td>\n",
       "    </tr>\n",
       "  </tbody>\n",
       "</table>\n",
       "</div>"
      ],
      "text/plain": [
       "                               file_id                   id area_id\n",
       "0     000488dbd3bf43b3a8410ea1147345ff    38028119910715151  380281\n",
       "523   19b6bd7c704b4147b85009a555a1dcf3   428504199511103741  428504\n",
       "867   2cd6e56364cd42bba1e2c58a546bdbd0    13262719860923688  132627\n",
       "2236  757a73641b474ec2a05301e221e34216    31105513195999739  311055\n",
       "2526  83bd06a7b23e4dda9631ff77fd2be307  3027112632212660239  302711\n",
       "4424  e4b3332cbcdf45fab14b668f7e569979     331711611771573X  331711"
      ]
     },
     "execution_count": 97,
     "metadata": {},
     "output_type": "execute_result"
    }
   ],
   "source": [
    "result.loc[~result.area_id.isin(id_card_key)]"
   ]
  },
  {
   "cell_type": "code",
   "execution_count": 108,
   "metadata": {},
   "outputs": [
    {
     "data": {
      "text/html": [
       "<div>\n",
       "<style scoped>\n",
       "    .dataframe tbody tr th:only-of-type {\n",
       "        vertical-align: middle;\n",
       "    }\n",
       "\n",
       "    .dataframe tbody tr th {\n",
       "        vertical-align: top;\n",
       "    }\n",
       "\n",
       "    .dataframe thead th {\n",
       "        text-align: right;\n",
       "    }\n",
       "</style>\n",
       "<table border=\"1\" class=\"dataframe\">\n",
       "  <thead>\n",
       "    <tr style=\"text-align: right;\">\n",
       "      <th></th>\n",
       "      <th>file_id</th>\n",
       "      <th>id</th>\n",
       "      <th>area_id</th>\n",
       "    </tr>\n",
       "  </thead>\n",
       "  <tbody>\n",
       "    <tr>\n",
       "      <th>867</th>\n",
       "      <td>2cd6e56364cd42bba1e2c58a546bdbd0</td>\n",
       "      <td>13262719860923688</td>\n",
       "      <td>132627</td>\n",
       "    </tr>\n",
       "  </tbody>\n",
       "</table>\n",
       "</div>"
      ],
      "text/plain": [
       "                              file_id                 id area_id\n",
       "867  2cd6e56364cd42bba1e2c58a546bdbd0  13262719860923688  132627"
      ]
     },
     "execution_count": 108,
     "metadata": {},
     "output_type": "execute_result"
    }
   ],
   "source": [
    "result.loc[result.file_id == '2cd6e56364cd42bba1e2c58a546bdbd0']"
   ]
  },
  {
   "cell_type": "code",
   "execution_count": 98,
   "metadata": {},
   "outputs": [],
   "source": [
    "result2 = pd.read_csv('../single_result/1015_v2_id_only_49.csv',header=None, names=['file_id','id'])"
   ]
  },
  {
   "cell_type": "code",
   "execution_count": 99,
   "metadata": {},
   "outputs": [
    {
     "data": {
      "text/plain": [
       "(3, 2)"
      ]
     },
     "execution_count": 99,
     "metadata": {},
     "output_type": "execute_result"
    }
   ],
   "source": [
    "result2[result2.id.str.len() < 17].shape"
   ]
  },
  {
   "cell_type": "code",
   "execution_count": 100,
   "metadata": {},
   "outputs": [],
   "source": [
    "result2['area_id'] = result2['id'].str[:6]"
   ]
  },
  {
   "cell_type": "code",
   "execution_count": 101,
   "metadata": {},
   "outputs": [
    {
     "data": {
      "text/html": [
       "<div>\n",
       "<style scoped>\n",
       "    .dataframe tbody tr th:only-of-type {\n",
       "        vertical-align: middle;\n",
       "    }\n",
       "\n",
       "    .dataframe tbody tr th {\n",
       "        vertical-align: top;\n",
       "    }\n",
       "\n",
       "    .dataframe thead th {\n",
       "        text-align: right;\n",
       "    }\n",
       "</style>\n",
       "<table border=\"1\" class=\"dataframe\">\n",
       "  <thead>\n",
       "    <tr style=\"text-align: right;\">\n",
       "      <th></th>\n",
       "      <th>file_id</th>\n",
       "      <th>id</th>\n",
       "      <th>area_id</th>\n",
       "    </tr>\n",
       "  </thead>\n",
       "  <tbody>\n",
       "    <tr>\n",
       "      <th>523</th>\n",
       "      <td>19b6bd7c704b4147b85009a555a1dcf3</td>\n",
       "      <td>428504199511103741</td>\n",
       "      <td>428504</td>\n",
       "    </tr>\n",
       "    <tr>\n",
       "      <th>686</th>\n",
       "      <td>22cc48d958fb4081ace55dbcdb43c03e</td>\n",
       "      <td>42260219611023235X</td>\n",
       "      <td>422602</td>\n",
       "    </tr>\n",
       "    <tr>\n",
       "      <th>867</th>\n",
       "      <td>2cd6e56364cd42bba1e2c58a546bdbd0</td>\n",
       "      <td>13252719860923688</td>\n",
       "      <td>132527</td>\n",
       "    </tr>\n",
       "    <tr>\n",
       "      <th>1505</th>\n",
       "      <td>5036a34ff4714b019e3f80b31965497f</td>\n",
       "      <td>50010019700420672</td>\n",
       "      <td>500100</td>\n",
       "    </tr>\n",
       "    <tr>\n",
       "      <th>2236</th>\n",
       "      <td>757a73641b474ec2a05301e221e34216</td>\n",
       "      <td>1118444111419</td>\n",
       "      <td>111844</td>\n",
       "    </tr>\n",
       "    <tr>\n",
       "      <th>2526</th>\n",
       "      <td>83bd06a7b23e4dda9631ff77fd2be307</td>\n",
       "      <td>1071116401161261</td>\n",
       "      <td>107111</td>\n",
       "    </tr>\n",
       "    <tr>\n",
       "      <th>4041</th>\n",
       "      <td>d28c1c9264c74a10bc372ac3cc307c8b</td>\n",
       "      <td>53202520030526913</td>\n",
       "      <td>532025</td>\n",
       "    </tr>\n",
       "    <tr>\n",
       "      <th>4424</th>\n",
       "      <td>e4b3332cbcdf45fab14b668f7e569979</td>\n",
       "      <td>1141119111411114</td>\n",
       "      <td>114111</td>\n",
       "    </tr>\n",
       "  </tbody>\n",
       "</table>\n",
       "</div>"
      ],
      "text/plain": [
       "                               file_id                  id area_id\n",
       "523   19b6bd7c704b4147b85009a555a1dcf3  428504199511103741  428504\n",
       "686   22cc48d958fb4081ace55dbcdb43c03e  42260219611023235X  422602\n",
       "867   2cd6e56364cd42bba1e2c58a546bdbd0   13252719860923688  132527\n",
       "1505  5036a34ff4714b019e3f80b31965497f   50010019700420672  500100\n",
       "2236  757a73641b474ec2a05301e221e34216       1118444111419  111844\n",
       "2526  83bd06a7b23e4dda9631ff77fd2be307    1071116401161261  107111\n",
       "4041  d28c1c9264c74a10bc372ac3cc307c8b   53202520030526913  532025\n",
       "4424  e4b3332cbcdf45fab14b668f7e569979    1141119111411114  114111"
      ]
     },
     "execution_count": 101,
     "metadata": {},
     "output_type": "execute_result"
    }
   ],
   "source": [
    "result2.loc[~result2.area_id.isin(id_card_key)]"
   ]
  },
  {
   "cell_type": "code",
   "execution_count": 102,
   "metadata": {},
   "outputs": [
    {
     "data": {
      "text/html": [
       "<div>\n",
       "<style scoped>\n",
       "    .dataframe tbody tr th:only-of-type {\n",
       "        vertical-align: middle;\n",
       "    }\n",
       "\n",
       "    .dataframe tbody tr th {\n",
       "        vertical-align: top;\n",
       "    }\n",
       "\n",
       "    .dataframe thead th {\n",
       "        text-align: right;\n",
       "    }\n",
       "</style>\n",
       "<table border=\"1\" class=\"dataframe\">\n",
       "  <thead>\n",
       "    <tr style=\"text-align: right;\">\n",
       "      <th></th>\n",
       "      <th>file_id</th>\n",
       "      <th>id</th>\n",
       "      <th>area_id</th>\n",
       "    </tr>\n",
       "  </thead>\n",
       "  <tbody>\n",
       "    <tr>\n",
       "      <th>0</th>\n",
       "      <td>000488dbd3bf43b3a8410ea1147345ff</td>\n",
       "      <td>36028119910715151</td>\n",
       "      <td>360281</td>\n",
       "    </tr>\n",
       "  </tbody>\n",
       "</table>\n",
       "</div>"
      ],
      "text/plain": [
       "                            file_id                 id area_id\n",
       "0  000488dbd3bf43b3a8410ea1147345ff  36028119910715151  360281"
      ]
     },
     "execution_count": 102,
     "metadata": {},
     "output_type": "execute_result"
    }
   ],
   "source": [
    "result2.loc[result2.file_id == '000488dbd3bf43b3a8410ea1147345ff']"
   ]
  },
  {
   "cell_type": "code",
   "execution_count": null,
   "metadata": {},
   "outputs": [],
   "source": []
  },
  {
   "cell_type": "code",
   "execution_count": 105,
   "metadata": {},
   "outputs": [],
   "source": [
    "from Levenshtein import distance"
   ]
  },
  {
   "cell_type": "code",
   "execution_count": 117,
   "metadata": {},
   "outputs": [
    {
     "name": "stdout",
     "output_type": "stream",
     "text": [
      "0\n",
      "428504\n",
      "420504 1\n",
      "['420504']\n",
      "1\n",
      "422602\n",
      "420602 1\n",
      "422802 1\n",
      "['420602', '422802']\n",
      "2\n",
      "132527\n",
      "130527 1\n",
      "152527 1\n",
      "532527 1\n",
      "['130527', '152527', '532527']\n",
      "3\n",
      "500100\n",
      "500101 1\n",
      "500102 1\n",
      "500103 1\n",
      "500104 1\n",
      "500105 1\n",
      "500106 1\n",
      "500107 1\n",
      "500108 1\n",
      "500109 1\n",
      "500110 1\n",
      "500120 1\n",
      "['500101', '500102', '500103', '500104', '500105', '500106', '500107', '500108', '500109', '500110', '500120']\n",
      "4\n",
      "111844\n",
      "[]\n",
      "5\n",
      "107111\n",
      "[]\n",
      "6\n",
      "532025\n",
      "532325 1\n",
      "532525 1\n",
      "532625 1\n",
      "532925 1\n",
      "['532325', '532525', '532625', '532925']\n",
      "7\n",
      "114111\n",
      "110111 1\n",
      "['110111']\n"
     ]
    }
   ],
   "source": [
    "for idx,error_id in enumerate(result2.loc[~result2.area_id.isin(id_card_key),'id']):\n",
    "    print(idx)\n",
    "    print(error_id[:6])\n",
    "    \n",
    "    option_list = []\n",
    "    for ok_id in id_card_key:\n",
    "        sim_ed_dist = distance(error_id[:6],ok_id)\n",
    "        if sim_ed_dist < 2:\n",
    "            option_list.extend([ok_id])\n",
    "            print(ok_id, sim_ed_dist)\n",
    "    \n",
    "    print(option_list)"
   ]
  },
  {
   "cell_type": "code",
   "execution_count": null,
   "metadata": {},
   "outputs": [],
   "source": []
  }
 ],
 "metadata": {
  "kernelspec": {
   "display_name": "Python 3",
   "language": "python",
   "name": "python3"
  },
  "language_info": {
   "codemirror_mode": {
    "name": "ipython",
    "version": 3
   },
   "file_extension": ".py",
   "mimetype": "text/x-python",
   "name": "python",
   "nbconvert_exporter": "python",
   "pygments_lexer": "ipython3",
   "version": "3.7.4"
  }
 },
 "nbformat": 4,
 "nbformat_minor": 2
}
