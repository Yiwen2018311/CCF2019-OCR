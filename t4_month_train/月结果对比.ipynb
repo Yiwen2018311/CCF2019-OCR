{
 "cells": [
  {
   "cell_type": "code",
   "execution_count": 11,
   "metadata": {},
   "outputs": [],
   "source": [
    "import pandas as pd"
   ]
  },
  {
   "cell_type": "code",
   "execution_count": 12,
   "metadata": {},
   "outputs": [],
   "source": [
    "# 已经提交的最高成绩\n",
    "old_pd = pd.read_csv('../single_submit/0906_month_only_43.csv ',header=None) #9.9672% \n",
    "old_pd.columns = ['file', 'name', 'nation', 'sex', 'year', 'month', 'day', 'addr', 'id', 'office', 'valid']"
   ]
  },
  {
   "cell_type": "code",
   "execution_count": 13,
   "metadata": {},
   "outputs": [],
   "source": [
    "# new_pd = pd.read_csv('../single_result/0906_month_only_43.csv',header=None,names=['file','month'])\n",
    "new_pd = pd.read_csv('../single_result/1019_month_only_93.csv',header=None,names=['file','month'])"
   ]
  },
  {
   "cell_type": "code",
   "execution_count": 14,
   "metadata": {},
   "outputs": [],
   "source": [
    "meg_pd = pd.merge(new_pd,old_pd[['file','month']],how='left',on='file')"
   ]
  },
  {
   "cell_type": "code",
   "execution_count": 10,
   "metadata": {},
   "outputs": [
    {
     "data": {
      "text/html": [
       "<div>\n",
       "<style scoped>\n",
       "    .dataframe tbody tr th:only-of-type {\n",
       "        vertical-align: middle;\n",
       "    }\n",
       "\n",
       "    .dataframe tbody tr th {\n",
       "        vertical-align: top;\n",
       "    }\n",
       "\n",
       "    .dataframe thead th {\n",
       "        text-align: right;\n",
       "    }\n",
       "</style>\n",
       "<table border=\"1\" class=\"dataframe\">\n",
       "  <thead>\n",
       "    <tr style=\"text-align: right;\">\n",
       "      <th></th>\n",
       "      <th>file</th>\n",
       "      <th>month_x</th>\n",
       "      <th>month_y</th>\n",
       "    </tr>\n",
       "  </thead>\n",
       "  <tbody>\n",
       "    <tr>\n",
       "      <th>1066</th>\n",
       "      <td>381365090bab40cea66862c5df2cf87b</td>\n",
       "      <td>5</td>\n",
       "      <td>2</td>\n",
       "    </tr>\n",
       "    <tr>\n",
       "      <th>2236</th>\n",
       "      <td>757a73641b474ec2a05301e221e34216</td>\n",
       "      <td>7</td>\n",
       "      <td>11</td>\n",
       "    </tr>\n",
       "    <tr>\n",
       "      <th>2526</th>\n",
       "      <td>83bd06a7b23e4dda9631ff77fd2be307</td>\n",
       "      <td>11</td>\n",
       "      <td>12</td>\n",
       "    </tr>\n",
       "    <tr>\n",
       "      <th>3248</th>\n",
       "      <td>aa39569b8239419e92f4bb4a47af4c5d</td>\n",
       "      <td>6</td>\n",
       "      <td>12</td>\n",
       "    </tr>\n",
       "    <tr>\n",
       "      <th>3449</th>\n",
       "      <td>b49d5d9947e644a79f332f83f5c6861b</td>\n",
       "      <td>5</td>\n",
       "      <td>2</td>\n",
       "    </tr>\n",
       "    <tr>\n",
       "      <th>4424</th>\n",
       "      <td>e4b3332cbcdf45fab14b668f7e569979</td>\n",
       "      <td>4</td>\n",
       "      <td>7</td>\n",
       "    </tr>\n",
       "  </tbody>\n",
       "</table>\n",
       "</div>"
      ],
      "text/plain": [
       "                                  file  month_x  month_y\n",
       "1066  381365090bab40cea66862c5df2cf87b        5        2\n",
       "2236  757a73641b474ec2a05301e221e34216        7       11\n",
       "2526  83bd06a7b23e4dda9631ff77fd2be307       11       12\n",
       "3248  aa39569b8239419e92f4bb4a47af4c5d        6       12\n",
       "3449  b49d5d9947e644a79f332f83f5c6861b        5        2\n",
       "4424  e4b3332cbcdf45fab14b668f7e569979        4        7"
      ]
     },
     "execution_count": 10,
     "metadata": {},
     "output_type": "execute_result"
    }
   ],
   "source": [
    "meg_pd[meg_pd.month_x != meg_pd.month_y]"
   ]
  },
  {
   "cell_type": "code",
   "execution_count": 15,
   "metadata": {},
   "outputs": [
    {
     "data": {
      "text/html": [
       "<div>\n",
       "<style scoped>\n",
       "    .dataframe tbody tr th:only-of-type {\n",
       "        vertical-align: middle;\n",
       "    }\n",
       "\n",
       "    .dataframe tbody tr th {\n",
       "        vertical-align: top;\n",
       "    }\n",
       "\n",
       "    .dataframe thead th {\n",
       "        text-align: right;\n",
       "    }\n",
       "</style>\n",
       "<table border=\"1\" class=\"dataframe\">\n",
       "  <thead>\n",
       "    <tr style=\"text-align: right;\">\n",
       "      <th></th>\n",
       "      <th>file</th>\n",
       "      <th>month_x</th>\n",
       "      <th>month_y</th>\n",
       "    </tr>\n",
       "  </thead>\n",
       "  <tbody>\n",
       "    <tr>\n",
       "      <th>1066</th>\n",
       "      <td>381365090bab40cea66862c5df2cf87b</td>\n",
       "      <td>5</td>\n",
       "      <td>2</td>\n",
       "    </tr>\n",
       "    <tr>\n",
       "      <th>1870</th>\n",
       "      <td>62dc913ee8c749d68de7918a6d4e227a</td>\n",
       "      <td>1</td>\n",
       "      <td>11</td>\n",
       "    </tr>\n",
       "    <tr>\n",
       "      <th>2236</th>\n",
       "      <td>757a73641b474ec2a05301e221e34216</td>\n",
       "      <td>7</td>\n",
       "      <td>11</td>\n",
       "    </tr>\n",
       "    <tr>\n",
       "      <th>2526</th>\n",
       "      <td>83bd06a7b23e4dda9631ff77fd2be307</td>\n",
       "      <td>11</td>\n",
       "      <td>12</td>\n",
       "    </tr>\n",
       "    <tr>\n",
       "      <th>3104</th>\n",
       "      <td>a260bf5db26343578eedbd780deceaa9</td>\n",
       "      <td>4</td>\n",
       "      <td>1</td>\n",
       "    </tr>\n",
       "    <tr>\n",
       "      <th>3248</th>\n",
       "      <td>aa39569b8239419e92f4bb4a47af4c5d</td>\n",
       "      <td>6</td>\n",
       "      <td>12</td>\n",
       "    </tr>\n",
       "    <tr>\n",
       "      <th>3367</th>\n",
       "      <td>b0abcd1aab734e4c84ab6b934b8128ba</td>\n",
       "      <td>7</td>\n",
       "      <td>3</td>\n",
       "    </tr>\n",
       "    <tr>\n",
       "      <th>3447</th>\n",
       "      <td>b497f15365be487b9c8866980aef0048</td>\n",
       "      <td>1</td>\n",
       "      <td>7</td>\n",
       "    </tr>\n",
       "    <tr>\n",
       "      <th>3449</th>\n",
       "      <td>b49d5d9947e644a79f332f83f5c6861b</td>\n",
       "      <td>5</td>\n",
       "      <td>2</td>\n",
       "    </tr>\n",
       "    <tr>\n",
       "      <th>4046</th>\n",
       "      <td>d2abacd90b0a43979d3f973a16140dc2</td>\n",
       "      <td>3</td>\n",
       "      <td>8</td>\n",
       "    </tr>\n",
       "    <tr>\n",
       "      <th>4424</th>\n",
       "      <td>e4b3332cbcdf45fab14b668f7e569979</td>\n",
       "      <td>4</td>\n",
       "      <td>7</td>\n",
       "    </tr>\n",
       "    <tr>\n",
       "      <th>4471</th>\n",
       "      <td>e70166131dd24c3f9d533a02742bc892</td>\n",
       "      <td>9</td>\n",
       "      <td>5</td>\n",
       "    </tr>\n",
       "  </tbody>\n",
       "</table>\n",
       "</div>"
      ],
      "text/plain": [
       "                                  file  month_x  month_y\n",
       "1066  381365090bab40cea66862c5df2cf87b        5        2\n",
       "1870  62dc913ee8c749d68de7918a6d4e227a        1       11\n",
       "2236  757a73641b474ec2a05301e221e34216        7       11\n",
       "2526  83bd06a7b23e4dda9631ff77fd2be307       11       12\n",
       "3104  a260bf5db26343578eedbd780deceaa9        4        1\n",
       "3248  aa39569b8239419e92f4bb4a47af4c5d        6       12\n",
       "3367  b0abcd1aab734e4c84ab6b934b8128ba        7        3\n",
       "3447  b497f15365be487b9c8866980aef0048        1        7\n",
       "3449  b49d5d9947e644a79f332f83f5c6861b        5        2\n",
       "4046  d2abacd90b0a43979d3f973a16140dc2        3        8\n",
       "4424  e4b3332cbcdf45fab14b668f7e569979        4        7\n",
       "4471  e70166131dd24c3f9d533a02742bc892        9        5"
      ]
     },
     "execution_count": 15,
     "metadata": {},
     "output_type": "execute_result"
    }
   ],
   "source": [
    "meg_pd[meg_pd.month_x != meg_pd.month_y]"
   ]
  },
  {
   "cell_type": "code",
   "execution_count": null,
   "metadata": {},
   "outputs": [],
   "source": []
  }
 ],
 "metadata": {
  "kernelspec": {
   "display_name": "Python 3",
   "language": "python",
   "name": "python3"
  },
  "language_info": {
   "codemirror_mode": {
    "name": "ipython",
    "version": 3
   },
   "file_extension": ".py",
   "mimetype": "text/x-python",
   "name": "python",
   "nbconvert_exporter": "python",
   "pygments_lexer": "ipython3",
   "version": "3.7.4"
  }
 },
 "nbformat": 4,
 "nbformat_minor": 2
}
